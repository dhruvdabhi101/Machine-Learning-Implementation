{
 "cells": [
  {
   "cell_type": "markdown",
   "id": "2c8cc81e",
   "metadata": {},
   "source": [
    "# Gradient Descent "
   ]
  },
  {
   "cell_type": "code",
   "execution_count": 1,
   "id": "29f7cdfa",
   "metadata": {},
   "outputs": [],
   "source": [
    "# Importing Important Libraries\n",
    "\n",
    "import numpy as np\n",
    "import matplotlib.pyplot as plt\n",
    "from sklearn.datasets import make_regression"
   ]
  },
  {
   "cell_type": "code",
   "execution_count": 2,
   "id": "5d78b51a",
   "metadata": {},
   "outputs": [],
   "source": [
    "# Generating Dataset\n",
    "np.random.seed(42)\n",
    "x,y = make_regression(n_features=1,noise=10)"
   ]
  },
  {
   "cell_type": "markdown",
   "id": "1ddbbef5",
   "metadata": {},
   "source": [
    "### Generaing Cost Function\n",
    "$$J(w,b) = \\frac{1}{2m} \\sum\\limits_{i = 0}^{m-1} (f_{w,b}(x^{(i)}) - y^{(i)})^2\\$$ "
   ]
  },
  {
   "cell_type": "code",
   "execution_count": 3,
   "id": "42a62301",
   "metadata": {},
   "outputs": [],
   "source": [
    "# Generaing Cost Function\n",
    "def cost_function(x,y,w,b):\n",
    "    m = x.shape[0]\n",
    "    cost = 0\n",
    "    for i in range(m):\n",
    "        f_wb = w*x[i] + b\n",
    "        cost = cost + (f_wb - y[i])**2\n",
    "    total_cost = 1/(2*m) * cost\n",
    "    return total_cost\n",
    "    "
   ]
  },
  {
   "cell_type": "markdown",
   "id": "985a3138",
   "metadata": {},
   "source": [
    "### Gradient Function\n",
    "\n",
    "$$\\begin{align}\n",
    "\\frac{\\partial J(w,b)}{\\partial w}  &= \\frac{1}{m} \\sum\\limits_{i = 0}^{m-1} (f_{w,b}(x^{(i)}) - y^{(i)})x^{(i)} \\tag{4}\\\\\n",
    "  \\frac{\\partial J(w,b)}{\\partial b}  &= \\frac{1}{m} \\sum\\limits_{i = 0}^{m-1} (f_{w,b}(x^{(i)}) - y^{(i)}) \\tag{5}\\\\\n",
    "\\end{align}\n",
    "$$"
   ]
  },
  {
   "cell_type": "code",
   "execution_count": 4,
   "id": "b58c8259",
   "metadata": {},
   "outputs": [],
   "source": [
    "def gradient(x,y,w,b):\n",
    "    m = x.shape[0]\n",
    "    dj_dw = 0\n",
    "    dj_db = 0\n",
    "    \n",
    "    for i in range(m):\n",
    "        f_wb = w*x[i] + b\n",
    "        dj_dw_i = (f_wb - y[i]) * x[i]\n",
    "        dj_db_i = f_wb - y[i]\n",
    "        dj_dw += dj_dw_i\n",
    "        dj_db += dj_db_i\n",
    "    dj_db = dj_db/m\n",
    "    dj_dw = dj_dw/m\n",
    "\n",
    "    return dj_dw,dj_db"
   ]
  },
  {
   "cell_type": "markdown",
   "id": "42b413f4",
   "metadata": {},
   "source": [
    "### Gradient Descent \n",
    "\n",
    "$$\\begin{align*} \\text{repeat}&\\text{ until convergence:} \\; \\lbrace \\newline\n",
    "\\;  w &= w -  \\alpha \\frac{\\partial J(w,b)}{\\partial w} \\tag{3}  \\; \\newline \n",
    " b &= b -  \\alpha \\frac{\\partial J(w,b)}{\\partial b}  \\newline \\rbrace\n",
    "\\end{align*}$$\n",
    "where, parameters $w$, $b$ are updated simultaneously.  "
   ]
  },
  {
   "cell_type": "code",
   "execution_count": 5,
   "id": "8e4c0f3e",
   "metadata": {},
   "outputs": [],
   "source": [
    "def gradient_descent(x,y,w_in,b_in,alpha,num_iter,cost_function,grad_function):\n",
    "    w = w_in\n",
    "    b = b_in\n",
    "    for i in range(num_iter):\n",
    "        dj_dw, dj_db = grad_function(x,y,w,b)\n",
    "        \n",
    "        b = b - alpha * dj_db\n",
    "        w = w - alpha * dj_dw\n",
    "        \n",
    "    return w,b"
   ]
  },
  {
   "cell_type": "code",
   "execution_count": 6,
   "id": "526e91db",
   "metadata": {},
   "outputs": [],
   "source": [
    "w_in = 0 \n",
    "b_in = 0\n",
    "alpha = 0.01\n",
    "num_iter = 1000\n",
    "cost_function = cost_function\n",
    "grad_function = gradient\n",
    "w , b = gradient_descent(x,y,w_in,b_in,alpha,num_iter,cost_function,grad_function)"
   ]
  },
  {
   "cell_type": "code",
   "execution_count": 7,
   "id": "de913443",
   "metadata": {},
   "outputs": [
    {
     "name": "stdout",
     "output_type": "stream",
     "text": [
      "[44.42210912]\n"
     ]
    }
   ],
   "source": [
    "print(w)"
   ]
  },
  {
   "cell_type": "code",
   "execution_count": 8,
   "id": "88da7e80",
   "metadata": {},
   "outputs": [
    {
     "name": "stdout",
     "output_type": "stream",
     "text": [
      "[1.15857049]\n"
     ]
    }
   ],
   "source": [
    "print(b)"
   ]
  },
  {
   "cell_type": "code",
   "execution_count": 9,
   "id": "bee724ba",
   "metadata": {},
   "outputs": [
    {
     "data": {
      "text/plain": [
       "<matplotlib.collections.PathCollection at 0x123971a00>"
      ]
     },
     "execution_count": 9,
     "metadata": {},
     "output_type": "execute_result"
    },
    {
     "data": {
      "image/png": "[encoded data removed]",
      "text/plain": [
       "<Figure size 432x288 with 1 Axes>"
      ]
     },
     "metadata": {
      "needs_background": "light"
     },
     "output_type": "display_data"
    }
   ],
   "source": [
    "plt.scatter(x,y)"
   ]
  },
  {
   "cell_type": "code",
   "execution_count": 10,
   "id": "ac0eb7f8",
   "metadata": {},
   "outputs": [],
   "source": [
    "y_ans = w * 2.8 + b"
   ]
  },
  {
   "cell_type": "code",
   "execution_count": 11,
   "id": "af6c53c7",
   "metadata": {},
   "outputs": [
    {
     "name": "stdout",
     "output_type": "stream",
     "text": [
      "[125.54047601]\n"
     ]
    }
   ],
   "source": [
    "print(y_ans)"
   ]
  },
  {
   "cell_type": "code",
   "execution_count": 12,
   "id": "4ef45eac",
   "metadata": {},
   "outputs": [
    {
     "data": {
      "text/plain": [
       "[<matplotlib.lines.Line2D at 0x123a8d160>]"
      ]
     },
     "execution_count": 12,
     "metadata": {},
     "output_type": "execute_result"
    },
    {
     "data": {
      "image/png": "[encoded data removed]",
      "text/plain": [
       "<Figure size 432x288 with 1 Axes>"
      ]
     },
     "metadata": {
      "needs_background": "light"
     },
     "output_type": "display_data"
    }
   ],
   "source": [
    "plt.scatter(2.8,y_ans)\n",
    "plt.plot(x,y,'r.')"
   ]
  },
  {
   "cell_type": "code",
   "execution_count": null,
   "id": "1ef9d4eb",
   "metadata": {},
   "outputs": [],
   "source": []
  }
 ],
 "metadata": {
  "kernelspec": {
   "display_name": "Python 3 (ipykernel)",
   "language": "python",
   "name": "python3"
  },
  "language_info": {
   "codemirror_mode": {
    "name": "ipython",
    "version": 3
   },
   "file_extension": ".py",
   "mimetype": "text/x-python",
   "name": "python",
   "nbconvert_exporter": "python",
   "pygments_lexer": "ipython3",
   "version": "3.9.12"
  }
 },
 "nbformat": 4,
 "nbformat_minor": 5
}

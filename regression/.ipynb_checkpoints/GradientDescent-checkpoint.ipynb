{
 "cells": [
  {
   "cell_type": "markdown",
   "id": "8afd3f26",
   "metadata": {},
   "source": [
    "# Gradient Descent "
   ]
  },
  {
   "cell_type": "code",
   "execution_count": 144,
   "id": "644c5702",
   "metadata": {},
   "outputs": [],
   "source": [
    "# Importing Important Libraries\n",
    "\n",
    "import numpy as np\n",
    "import matplotlib.pyplot as plt\n",
    "from sklearn.datasets import make_regression"
   ]
  },
  {
   "cell_type": "code",
   "execution_count": 123,
   "id": "c2f59bdd",
   "metadata": {},
   "outputs": [],
   "source": [
    "# Generating Dataset\n",
    "np.random.seed(42)\n",
    "x,y = make_regression(n_features=1,noise=10)"
   ]
  },
  {
   "cell_type": "markdown",
   "id": "af341626",
   "metadata": {},
   "source": [
    "### Generaing Cost Function\n",
    "$$J(w,b) = \\frac{1}{2m} \\sum\\limits_{i = 0}^{m-1} (f_{w,b}(x^{(i)}) - y^{(i)})^2\\$$ "
   ]
  },
  {
   "cell_type": "code",
   "execution_count": 124,
   "id": "4a24c601",
   "metadata": {},
   "outputs": [],
   "source": [
    "# Generaing Cost Function\n",
    "def cost_function(x,y,w,b):\n",
    "    m = x.shape[0]\n",
    "    cost = 0\n",
    "    for i in range(m):\n",
    "        f_wb = w*x[i] + b\n",
    "        cost = cost + (f_wb - y[i])**2\n",
    "    total_cost = 1/(2*m) * cost\n",
    "    return total_cost\n",
    "    "
   ]
  },
  {
   "cell_type": "markdown",
   "id": "23bd1f90",
   "metadata": {},
   "source": [
    "### Gradient Function\n",
    "\n",
    "$$\\begin{align}\n",
    "\\frac{\\partial J(w,b)}{\\partial w}  &= \\frac{1}{m} \\sum\\limits_{i = 0}^{m-1} (f_{w,b}(x^{(i)}) - y^{(i)})x^{(i)} \\tag{4}\\\\\n",
    "  \\frac{\\partial J(w,b)}{\\partial b}  &= \\frac{1}{m} \\sum\\limits_{i = 0}^{m-1} (f_{w,b}(x^{(i)}) - y^{(i)}) \\tag{5}\\\\\n",
    "\\end{align}\n",
    "$$"
   ]
  },
  {
   "cell_type": "code",
   "execution_count": 125,
   "id": "91edb4f0",
   "metadata": {},
   "outputs": [],
   "source": [
    "def gradient(x,y,w,b):\n",
    "    m = x.shape[0]\n",
    "    dj_dw = 0\n",
    "    dj_db = 0\n",
    "    \n",
    "    for i in range(m):\n",
    "        f_wb = w*x[i] + b\n",
    "        dj_dw_i = (f_wb - y[i]) * x[i]\n",
    "        dj_db_i = f_wb - y[i]\n",
    "        dj_dw += dj_dw_i\n",
    "        dj_db += dj_db_i\n",
    "    dj_db = dj_db/m\n",
    "    dj_dw = dj_dw/m\n",
    "\n",
    "    return dj_dw,dj_db"
   ]
  },
  {
   "cell_type": "markdown",
   "id": "bbe3e7f3",
   "metadata": {},
   "source": [
    "### Gradient Descent \n",
    "\n",
    "$$\\begin{align*} \\text{repeat}&\\text{ until convergence:} \\; \\lbrace \\newline\n",
    "\\;  w &= w -  \\alpha \\frac{\\partial J(w,b)}{\\partial w} \\tag{3}  \\; \\newline \n",
    " b &= b -  \\alpha \\frac{\\partial J(w,b)}{\\partial b}  \\newline \\rbrace\n",
    "\\end{align*}$$\n",
    "where, parameters $w$, $b$ are updated simultaneously.  "
   ]
  },
  {
   "cell_type": "code",
   "execution_count": 126,
   "id": "11b1ab85",
   "metadata": {},
   "outputs": [],
   "source": [
    "def gradient_descent(x,y,w_in,b_in,alpha,num_iter,cost_function,grad_function):\n",
    "    w = w_in\n",
    "    b = b_in\n",
    "    for i in range(num_iter):\n",
    "        dj_dw, dj_db = grad_function(x,y,w,b)\n",
    "        \n",
    "        b = b - alpha * dj_db\n",
    "        w = w - alpha * dj_dw\n",
    "        \n",
    "    return w,b"
   ]
  },
  {
   "cell_type": "code",
   "execution_count": 127,
   "id": "6eefb1a3",
   "metadata": {},
   "outputs": [],
   "source": [
    "w_in = 0 \n",
    "b_in = 0\n",
    "alpha = 0.01\n",
    "num_iter = 1000\n",
    "cost_function = cost_function\n",
    "grad_function = gradient\n",
    "w , b = gradient_descent(x,y,w_in,b_in,alpha,num_iter,cost_function,grad_function)"
   ]
  },
  {
   "cell_type": "code",
   "execution_count": 128,
   "id": "495efcb8",
   "metadata": {},
   "outputs": [
    {
     "name": "stdout",
     "output_type": "stream",
     "text": [
      "[44.42210912]\n"
     ]
    }
   ],
   "source": [
    "print(w)"
   ]
  },
  {
   "cell_type": "code",
   "execution_count": 129,
   "id": "2d5c918d",
   "metadata": {},
   "outputs": [
    {
     "name": "stdout",
     "output_type": "stream",
     "text": [
      "[1.15857049]\n"
     ]
    }
   ],
   "source": [
    "print(b)"
   ]
  },
  {
   "cell_type": "code",
   "execution_count": 130,
   "id": "187ebd58",
   "metadata": {},
   "outputs": [
    {
     "data": {
      "text/plain": [
       "<matplotlib.collections.PathCollection at 0x1591e0700>"
      ]
     },
     "execution_count": 130,
     "metadata": {},
     "output_type": "execute_result"
    },
    {
     "data": {
      "image/png": "[encoded data removed]",
      "text/plain": [
       "<Figure size 432x288 with 1 Axes>"
      ]
     },
     "metadata": {
      "needs_background": "light"
     },
     "output_type": "display_data"
    }
   ],
   "source": [
    "plt.scatter(x,y)"
   ]
  },
  {
   "cell_type": "code",
   "execution_count": 140,
   "id": "f7757218",
   "metadata": {},
   "outputs": [],
   "source": [
    "y_ans = w * 1.8 + b"
   ]
  },
  {
   "cell_type": "code",
   "execution_count": 141,
   "id": "5faae21f",
   "metadata": {},
   "outputs": [
    {
     "name": "stdout",
     "output_type": "stream",
     "text": [
      "[81.11836689]\n"
     ]
    }
   ],
   "source": [
    "print(y_ans)"
   ]
  },
  {
   "cell_type": "code",
   "execution_count": 143,
   "id": "e06c43e9",
   "metadata": {},
   "outputs": [
    {
     "data": {
      "text/plain": [
       "[<matplotlib.lines.Line2D at 0x1593c29d0>]"
      ]
     },
     "execution_count": 143,
     "metadata": {},
     "output_type": "execute_result"
    },
    {
     "data": {
      "image/png": "[encoded data removed]",
      "text/plain": [
       "<Figure size 432x288 with 1 Axes>"
      ]
     },
     "metadata": {
      "needs_background": "light"
     },
     "output_type": "display_data"
    }
   ],
   "source": [
    "plt.scatter(1.8,y_ans)\n",
    "plt.plot(x,y,'r.')"
   ]
  },
  {
   "cell_type": "code",
   "execution_count": null,
   "id": "31aea078",
   "metadata": {},
   "outputs": [],
   "source": []
  }
 ],
 "metadata": {
  "kernelspec": {
   "display_name": "Python 3 (ipykernel)",
   "language": "python",
   "name": "python3"
  },
  "language_info": {
   "codemirror_mode": {
    "name": "ipython",
    "version": 3
   },
   "file_extension": ".py",
   "mimetype": "text/x-python",
   "name": "python",
   "nbconvert_exporter": "python",
   "pygments_lexer": "ipython3",
   "version": "3.9.12"
  }
 },
 "nbformat": 4,
 "nbformat_minor": 5
}
